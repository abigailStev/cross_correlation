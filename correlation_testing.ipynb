{
 "metadata": {
  "name": "",
  "signature": "sha256:457e5c18a433169bec747b1b36b220d0ab00d8e8cebd55323411fa44a5cea986"
 },
 "nbformat": 3,
 "nbformat_minor": 0,
 "worksheets": [
  {
   "cells": [
    {
     "cell_type": "code",
     "collapsed": false,
     "input": [
      "import numpy as np\n",
      "from scipy import fftpack\n",
      "import matplotlib.pyplot as plt"
     ],
     "language": "python",
     "metadata": {},
     "outputs": [],
     "prompt_number": 1
    },
    {
     "cell_type": "code",
     "collapsed": false,
     "input": [
      "rate_ci = np.loadtxt(\"./rateCI.txt\")\n",
      "rate_ref= np.loadtxt(\"./rateREF.txt\")\n",
      "dt = 1.0/128.0\n",
      "df = 1.0 / 64.0\n",
      "n_bins = 8192\n",
      "detchans = 64\n",
      "mean_rate_ci = np.mean(rate_ci, axis=0)\n",
      "mean_rate_ref = np.mean(rate_ref)\n",
      "rate_sub_mean_ci = rate_ci - mean_rate_ci\n",
      "rate_sub_mean_ref = rate_ref - mean_rate_ref"
     ],
     "language": "python",
     "metadata": {},
     "outputs": [],
     "prompt_number": 23
    },
    {
     "cell_type": "code",
     "collapsed": false,
     "input": [
      "fft_ci = fftpack.fft(rate_sub_mean_ci, axis=0)\n",
      "fft_ref = fftpack.fft(rate_sub_mean_ref)\n",
      "power_ci = np.absolute(fft_ci) ** 2\n",
      "power_ref = np.absolute(fft_ref) ** 2\n",
      "# power_ref = fft_ref * np.conj(fft_ref)  ## Gives the same\n",
      "acf_ci_fft = fftpack.ifft(power_ci, axis=0)\n",
      "acf_ref_fft = fftpack.ifft(power_ref).real\n",
      "acf_ref_np = np.correlate(rate_sub_mean_ref, rate_sub_mean_ref, mode='full')\n",
      "acf_ref_np = acf_ref_np[acf_ref_np.size/2:]\n",
      "# acf_ref_np = np.correlate(rate_sub_mean_ref, rate_sub_mean_ref, mode='same')"
     ],
     "language": "python",
     "metadata": {},
     "outputs": [],
     "prompt_number": 28
    },
    {
     "cell_type": "code",
     "collapsed": false,
     "input": [
      "print \"ACF REF from FFT:\", acf_ref_fft[0:4]\n",
      "print \"ACF REF from NP:\", acf_ref_np[0:4]"
     ],
     "language": "python",
     "metadata": {},
     "outputs": [
      {
       "output_type": "stream",
       "stream": "stdout",
       "text": [
        "ACF REF from FFT: [  4.48398784e+09   1.03954814e+08   9.41571820e+07   1.92461182e+08]\n",
        "ACF REF from NP: [  4.48398784e+09   1.04434424e+08   9.29861016e+07   1.94510421e+08]\n"
       ]
      }
     ],
     "prompt_number": 29
    },
    {
     "cell_type": "code",
     "collapsed": false,
     "input": [
      "\n",
      "\n",
      "fft_ref = np.resize(np.repeat(fft_ref, detchans), (n_bins, detchans))\n",
      "cs = np.multiply(fft_ci, np.conj(fft_ref))\n",
      "ccf = fftpack.ifft(cs)"
     ],
     "language": "python",
     "metadata": {},
     "outputs": [],
     "prompt_number": 20
    },
    {
     "cell_type": "code",
     "collapsed": false,
     "input": [
      "ccf[0:4,6]"
     ],
     "language": "python",
     "metadata": {},
     "outputs": [
      {
       "metadata": {},
       "output_type": "pyout",
       "prompt_number": 21,
       "text": [
        "array([        0.00000000       +0.j        ,\n",
        "       -21059429.16682861+31930922.67777773j,\n",
        "        48009603.70266490-75560757.90104754j,\n",
        "        24911085.24598361-40107109.05377137j])"
       ]
      }
     ],
     "prompt_number": 21
    },
    {
     "cell_type": "code",
     "collapsed": false,
     "input": [],
     "language": "python",
     "metadata": {},
     "outputs": []
    }
   ],
   "metadata": {}
  }
 ]
}